{
  "nbformat": 4,
  "nbformat_minor": 0,
  "metadata": {
    "colab": {
      "provenance": []
    },
    "kernelspec": {
      "name": "python3",
      "display_name": "Python 3"
    },
    "language_info": {
      "name": "python"
    }
  },
  "cells": [
    {
      "cell_type": "markdown",
      "source": [
        "This is a quick test to make sure it syncs to Github."
      ],
      "metadata": {
        "id": "dBvv3tArwW1Z"
      }
    },
    {
      "cell_type": "code",
      "source": [
        "x = 2\n",
        "y = 5\n",
        "\n",
        "print(x*y)"
      ],
      "metadata": {
        "colab": {
          "base_uri": "https://localhost:8080/"
        },
        "id": "xd2y2W-ewftw",
        "outputId": "44cabc49-2c57-4211-f6f3-c20f0f6cfcf5"
      },
      "execution_count": null,
      "outputs": [
        {
          "output_type": "stream",
          "name": "stdout",
          "text": [
            "10\n"
          ]
        }
      ]
    },
    {
      "cell_type": "code",
      "source": [
        "a = \"hello\"\n",
        "print(a * 2.5)"
      ],
      "metadata": {
        "id": "dX8whql2CLB1",
        "outputId": "fbbefefc-b83b-4735-d73a-f6b35cb42211",
        "colab": {
          "base_uri": "https://localhost:8080/",
          "height": 164
        }
      },
      "execution_count": null,
      "outputs": [
        {
          "output_type": "error",
          "ename": "TypeError",
          "evalue": "can't multiply sequence by non-int of type 'float'",
          "traceback": [
            "\u001b[0;31m---------------------------------------------------------------------------\u001b[0m",
            "\u001b[0;31mTypeError\u001b[0m                                 Traceback (most recent call last)",
            "\u001b[0;32m/tmp/ipython-input-2497507605.py\u001b[0m in \u001b[0;36m<cell line: 0>\u001b[0;34m()\u001b[0m\n\u001b[1;32m      1\u001b[0m \u001b[0ma\u001b[0m \u001b[0;34m=\u001b[0m \u001b[0;34m\"hello\"\u001b[0m\u001b[0;34m\u001b[0m\u001b[0;34m\u001b[0m\u001b[0m\n\u001b[0;32m----> 2\u001b[0;31m \u001b[0mprint\u001b[0m\u001b[0;34m(\u001b[0m\u001b[0ma\u001b[0m \u001b[0;34m*\u001b[0m \u001b[0;36m2.5\u001b[0m\u001b[0;34m)\u001b[0m\u001b[0;34m\u001b[0m\u001b[0;34m\u001b[0m\u001b[0m\n\u001b[0m",
            "\u001b[0;31mTypeError\u001b[0m: can't multiply sequence by non-int of type 'float'"
          ]
        }
      ]
    },
    {
      "cell_type": "code",
      "source": [
        "string = \"hello\"\n",
        "integer = 1\n",
        "float = 5.5\n",
        "bool = True\n",
        "list = [1, 2, 3, \"a\", \"b\", \"c\"]\n",
        "dictionary = {\"name\": \"John\", \"age\": 44}\n",
        "\n",
        "print(string, integer, float, bool, list, dictionary)\n",
        "print(list[0])\n",
        "print(dictionary['name'])"
      ],
      "metadata": {
        "id": "r4LzC13DNTcl",
        "outputId": "b3f4035d-bce2-48cf-e946-d288f31aad0d",
        "colab": {
          "base_uri": "https://localhost:8080/"
        }
      },
      "execution_count": null,
      "outputs": [
        {
          "output_type": "stream",
          "name": "stdout",
          "text": [
            "hello 1 5.5 True [1, 2, 3, 'a', 'b', 'c'] {'name': 'John', 'age': 44}\n",
            "1\n",
            "John\n"
          ]
        }
      ]
    },
    {
      "cell_type": "code",
      "source": [
        "list = [1, 2, 3, \"a\", \"b\", \"c\"]\n",
        "dictionary = {\"name\": \"John\", \"age\": 44}\n",
        "listdict = [{\"name\": \"Tony\", \"age\": 18},{\"name\": \"Jane\", \"age\": 67}]\n",
        "\n",
        "print(list[0])\n",
        "print(dictionary[\"name\"])\n",
        "print(listdict[0][\"name\"])\n"
      ],
      "metadata": {
        "id": "FHRsNnK9PeMw",
        "outputId": "892dc5fd-ecbb-4e9e-9f80-59834e2f2c66",
        "colab": {
          "base_uri": "https://localhost:8080/"
        }
      },
      "execution_count": null,
      "outputs": [
        {
          "output_type": "stream",
          "name": "stdout",
          "text": [
            "1\n",
            "John\n",
            "Tony\n"
          ]
        }
      ]
    },
    {
      "cell_type": "code",
      "source": [
        "a = 10\n",
        "A = 11\n",
        "\n",
        "print(a)"
      ],
      "metadata": {
        "id": "bJmQQnUmRLkO",
        "outputId": "6d00eb33-e4a1-4351-cdc9-751ee9b40e13",
        "colab": {
          "base_uri": "https://localhost:8080/"
        }
      },
      "execution_count": null,
      "outputs": [
        {
          "output_type": "stream",
          "name": "stdout",
          "text": [
            "10\n"
          ]
        }
      ]
    }
  ]
}