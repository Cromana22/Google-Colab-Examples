{
  "nbformat": 4,
  "nbformat_minor": 0,
  "metadata": {
    "colab": {
      "provenance": [],
      "authorship_tag": "ABX9TyMzU41QHV4+qwvCm8z0rD3E",
      "include_colab_link": true
    },
    "kernelspec": {
      "name": "python3",
      "display_name": "Python 3"
    },
    "language_info": {
      "name": "python"
    }
  },
  "cells": [
    {
      "cell_type": "markdown",
      "metadata": {
        "id": "view-in-github",
        "colab_type": "text"
      },
      "source": [
        "<a href=\"https://colab.research.google.com/github/Cromana22/Google-Colab-Examples/blob/main/NumpyPandas.ipynb\" target=\"_parent\"><img src=\"https://colab.research.google.com/assets/colab-badge.svg\" alt=\"Open In Colab\"/></a>"
      ]
    },
    {
      "cell_type": "markdown",
      "source": [
        "Numpy"
      ],
      "metadata": {
        "id": "ksbzy59Q6Xd0"
      }
    },
    {
      "cell_type": "code",
      "source": [
        "import numpy as np"
      ],
      "metadata": {
        "id": "KLRNpGaK6ak2"
      },
      "execution_count": null,
      "outputs": []
    },
    {
      "cell_type": "code",
      "source": [
        "One  = np.array(range(1,10))\n",
        "print(One)\n",
        "print(One[1])"
      ],
      "metadata": {
        "id": "TnX23abb7IPs",
        "outputId": "03999f9a-e6dc-4fe9-eeaa-41eae8cf3319",
        "colab": {
          "base_uri": "https://localhost:8080/"
        }
      },
      "execution_count": 13,
      "outputs": [
        {
          "output_type": "stream",
          "name": "stdout",
          "text": [
            "[1 2 3 4 5 6 7 8 9]\n",
            "2\n"
          ]
        }
      ]
    },
    {
      "cell_type": "code",
      "source": [
        "Two = np.array([ [1, 2, 3] , [4, 5, 6] , [7, 8, 9] ])\n",
        "print(Two)\n",
        "\n",
        "print()\n",
        "Two = np.arange(1,10).reshape(3,3)\n",
        "print(Two)\n",
        "\n",
        "print()\n",
        "print(Two[1, :]) # row, column and : is a placeholder for \"all\"\n",
        "\n",
        "print()\n",
        "print(Two[:, 1]) # row, column and : is a placeholder for \"all\"\n",
        "\n",
        "print()\n",
        "print(Two[1, 1]) # row, column\n",
        "\n",
        "print()\n",
        "print(Two[0:2, :]) # row start index 0 up to (not including) index 2\n",
        "\n",
        "print()\n",
        "print(Two[:, 0:2]) # column start index 0 up to (not including) index 2\n",
        "\n",
        "print()\n",
        "print(Two[0:2:, 0:2]) # row and column start index 0 up to (not including) index 2"
      ],
      "metadata": {
        "id": "x0ZfBMcP7Ji4",
        "outputId": "bdc4cd4d-68ee-4837-b9fc-4f1d892dd853",
        "colab": {
          "base_uri": "https://localhost:8080/"
        }
      },
      "execution_count": 27,
      "outputs": [
        {
          "output_type": "stream",
          "name": "stdout",
          "text": [
            "[[1 2 3]\n",
            " [4 5 6]\n",
            " [7 8 9]]\n",
            "\n",
            "[[1 2 3]\n",
            " [4 5 6]\n",
            " [7 8 9]]\n",
            "\n",
            "[4 5 6]\n",
            "\n",
            "[2 5 8]\n",
            "\n",
            "5\n",
            "\n",
            "[[1 2 3]\n",
            " [4 5 6]]\n",
            "\n",
            "[[1 2]\n",
            " [4 5]\n",
            " [7 8]]\n",
            "\n",
            "[[1 2]\n",
            " [4 5]]\n"
          ]
        }
      ]
    },
    {
      "cell_type": "markdown",
      "source": [
        "Pandas"
      ],
      "metadata": {
        "id": "H1ykmrayj8aD"
      }
    },
    {
      "cell_type": "code",
      "source": [
        "import pandas as pd\n",
        "\n",
        "data = { \"Name\": [\"Alice\", \"Bob\", \"Charlie\"], \"Age\": [25, 30, 35], \"Score\": [85.5, 90.0, 88.0] }\n",
        "df = pd.DataFrame(data)\n",
        "print(df)\n",
        "\n",
        "print()\n",
        "print(df[\"Name\"]) # select column\n",
        "print()\n",
        "print(df[[\"Name\", \"Score\"]]) # select multiple columns\n",
        "print()\n",
        "print(df.iloc[0]) # first row (by position)\n",
        "print()\n",
        "print(df.loc[1, \"Age\"]) # row by position, column by label\n",
        "print()\n",
        "print(df[df[\"Score\"] > 87]) # filter rows\n",
        "print()\n",
        "df.describe()\n",
        "\n",
        "df[\"AgeGroup\"] = pd.cut(df[\"Age\"], bins=[0,35,60], labels=[\"Young\",\"Senior\"])\n",
        "\n",
        "print()\n",
        "print(df)\n",
        "print(df.groupby(\"AgeGroup\", observed=False).size())       # count per group, observed false will show empty groups\n",
        "print(df.groupby(\"AgeGroup\", observed=False)[\"Score\"].mean())   # average score per age\n"
      ],
      "metadata": {
        "id": "c1OLCOyYj9xs",
        "outputId": "f055213d-cbfc-4b50-cdd0-5c8904429587",
        "colab": {
          "base_uri": "https://localhost:8080/"
        }
      },
      "execution_count": 12,
      "outputs": [
        {
          "output_type": "stream",
          "name": "stdout",
          "text": [
            "      Name  Age  Score\n",
            "0    Alice   25   85.5\n",
            "1      Bob   30   90.0\n",
            "2  Charlie   35   88.0\n",
            "\n",
            "0      Alice\n",
            "1        Bob\n",
            "2    Charlie\n",
            "Name: Name, dtype: object\n",
            "\n",
            "      Name  Score\n",
            "0    Alice   85.5\n",
            "1      Bob   90.0\n",
            "2  Charlie   88.0\n",
            "\n",
            "Name     Alice\n",
            "Age         25\n",
            "Score     85.5\n",
            "Name: 0, dtype: object\n",
            "\n",
            "30\n",
            "\n",
            "      Name  Age  Score\n",
            "1      Bob   30   90.0\n",
            "2  Charlie   35   88.0\n",
            "\n",
            "\n",
            "      Name  Age  Score AgeGroup\n",
            "0    Alice   25   85.5    Young\n",
            "1      Bob   30   90.0    Young\n",
            "2  Charlie   35   88.0    Young\n",
            "AgeGroup\n",
            "Young    3\n",
            "dtype: int64\n",
            "AgeGroup\n",
            "Young    87.833333\n",
            "Name: Score, dtype: float64\n"
          ]
        }
      ]
    }
  ]
}