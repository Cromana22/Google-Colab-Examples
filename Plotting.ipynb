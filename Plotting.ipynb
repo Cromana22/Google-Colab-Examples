{
  "nbformat": 4,
  "nbformat_minor": 0,
  "metadata": {
    "colab": {
      "provenance": [],
      "authorship_tag": "ABX9TyOv+//feyKQ60rhdrUuROzO",
      "include_colab_link": true
    },
    "kernelspec": {
      "name": "python3",
      "display_name": "Python 3"
    },
    "language_info": {
      "name": "python"
    }
  },
  "cells": [
    {
      "cell_type": "markdown",
      "metadata": {
        "id": "view-in-github",
        "colab_type": "text"
      },
      "source": [
        "<a href=\"https://colab.research.google.com/github/Cromana22/Google-Colab-Examples/blob/main/Plotting.ipynb\" target=\"_parent\"><img src=\"https://colab.research.google.com/assets/colab-badge.svg\" alt=\"Open In Colab\"/></a>"
      ]
    },
    {
      "cell_type": "markdown",
      "source": [
        "Create Data and Do Imports"
      ],
      "metadata": {
        "id": "160onKiUKbug"
      }
    },
    {
      "cell_type": "code",
      "source": [
        "import pandas as pd\n",
        "import numpy as np\n",
        "import matplotlib.pyplot as plt\n",
        "import plotly.express as px\n",
        "import plotly.graph_objects as go\n",
        "import plotly.figure_factory as ff\n",
        "import plotly.subplots\n",
        "from plotly.subplots import make_subplots\n",
        "import plotly.io as pio\n",
        "\n",
        "# Reproducibility\n",
        "np.random.seed(42)\n",
        "\n",
        "# Example DataFrame (categorical + summary)\n",
        "df = pd.DataFrame({\n",
        "    \"Category\": np.random.choice([\"A\", \"B\", \"C\", \"D\", \"E\"], 100),\n",
        "    \"Datetime\": pd.date_range(start=\"1990-01-01\", periods=100, freq=\"D\"),\n",
        "    \"Value1\": np.random.randint(10, 100, 100),\n",
        "    \"Value2\": np.random.randint(10, 100, 100),\n",
        "    \"X\": np.random.randn(100),\n",
        "    \"Y\": np.random.randn(100) * 2 + 1,\n",
        "})"
      ],
      "metadata": {
        "id": "9E_Dc77GKcWT"
      },
      "execution_count": 6,
      "outputs": []
    },
    {
      "cell_type": "markdown",
      "source": [
        "Matplotlib Basic Plotting"
      ],
      "metadata": {
        "id": "WIWP0o___M7d"
      }
    },
    {
      "cell_type": "code",
      "source": [
        "print()  # just for clarity\n",
        "\n",
        "# 1. Line plot (over time)\n",
        "df.set_index(\"Datetime\")[[\"Value1\", \"Value2\"]].plot.line(title=\"Line Plot over Time\")\n",
        "plt.show()  # this triggers the plot to be drawn out before it does the next. avoids it \"smartly\" using the same axes to draw things on.\n",
        "\n",
        "# 2. Area plot (over time)\n",
        "df.set_index(\"Datetime\")[[\"Value1\", \"Value2\"]].plot.area(title=\"Area Plot over Time\", alpha=0.5)\n",
        "plt.show()\n",
        "\n",
        "# 3. Bar plot (mean Value1 per Category)\n",
        "df.groupby(\"Category\")[\"Value1\"].mean().plot.bar(title=\"Bar Plot (Mean Value1 by Category)\")\n",
        "plt.show()\n",
        "\n",
        "# 4. Horizontal bar plot (mean Value2 per Category)\n",
        "df.groupby(\"Category\")[\"Value2\"].mean().plot.barh(title=\"Horizontal Bar Plot (Mean Value2 by Category)\")\n",
        "plt.show()\n",
        "\n",
        "# 5. Histogram (distribution of Value1 & Value2)\n",
        "df[[\"Value1\", \"Value2\"]].plot.hist(alpha=0.5, bins=20, title=\"Histogram of Value1 & Value2\")\n",
        "plt.show()\n",
        "\n",
        "# 6. Box plot (Value1 & Value2)\n",
        "df[[\"Value1\", \"Value2\"]].plot.box(title=\"Box Plot of Value1 & Value2\")\n",
        "plt.show()\n",
        "\n",
        "# 7. Density plot (Value1 distribution)\n",
        "df[\"Value1\"].plot.density(title=\"Density Plot of Value1\")\n",
        "plt.show()\n",
        "\n",
        "# 8. KDE plot (Value2 distribution)\n",
        "df[\"Value2\"].plot.kde(title=\"KDE Plot of Value2\")\n",
        "plt.show()\n",
        "\n",
        "# 9. Pie plot (proportion of categories)\n",
        "df[\"Category\"].value_counts().plot.pie(title=\"Pie Plot of Categories\", autopct=\"%1.1f%%\", ylabel=\"\")  # clean up y-label for better reading\n",
        "plt.show()\n",
        "\n",
        "# 10. Scatter plot (X vs Y)\n",
        "df.plot.scatter(x=\"X\", y=\"Y\", title=\"Scatter Plot (X vs Y)\")\n",
        "plt.show()\n",
        "\n",
        "# 11. Hexbin plot (X vs Y)\n",
        "df.plot.hexbin(x=\"X\", y=\"Y\", gridsize=25, title=\"Hexbin Plot (X vs Y)\")\n",
        "plt.show()\n"
      ],
      "metadata": {
        "id": "7Xdo-KTV_SJk"
      },
      "execution_count": null,
      "outputs": []
    },
    {
      "cell_type": "markdown",
      "source": [
        "Matplotlib Subplot and Style"
      ],
      "metadata": {
        "id": "riM96q4BHidO"
      }
    },
    {
      "cell_type": "code",
      "source": [
        "print()  # blank line for layout\n",
        "\n",
        "plt.style.use('seaborn-v0_8')\n",
        "\n",
        "# Create 4x3 subplot grid\n",
        "fig, axes = plt.subplots(4, 3, figsize=(12, 12))  # figsize sets the size of the charts/graphs\n",
        "axes = axes.flatten()  # make 1D for easy indexing\n",
        "\n",
        "\n",
        "df.set_index(\"Datetime\")[[\"Value1\", \"Value2\"]].plot.line(title=\"Line Plot over Time\", ax=axes[0])  # ax says which plot it is sequentially starting from 0\n",
        "df.set_index(\"Datetime\")[[\"Value1\", \"Value2\"]].plot.area(title=\"Area Plot over Time\", alpha=0.5, ax=axes[1])\n",
        "df.groupby(\"Category\")[\"Value1\"].mean().plot.bar(title=\"Bar Plot (Mean Value1 by Category)\", ax=axes[2])\n",
        "df.groupby(\"Category\")[\"Value2\"].mean().plot.barh(title=\"Horizontal Bar Plot (Mean Value2 by Category)\", ax=axes[3])\n",
        "df[[\"Value1\", \"Value2\"]].plot.hist(alpha=0.5, bins=20, title=\"Histogram of Value1 & Value2\", ax=axes[4])\n",
        "df[[\"Value1\", \"Value2\"]].plot.box(title=\"Box Plot of Value1 & Value2\", ax=axes[5])\n",
        "df[\"Value1\"].plot.density(title=\"Density Plot of Value1\", ax=axes[6])\n",
        "df[\"Value2\"].plot.kde(title=\"KDE Plot of Value2\", ax=axes[7])\n",
        "df[\"Category\"].value_counts().plot.pie(title=\"Pie Plot of Categories\", autopct=\"%1.1f%%\", ylabel=\"\", ax=axes[8])\n",
        "df.plot.scatter(x=\"X\", y=\"Y\", title=\"Scatter Plot (X vs Y)\", ax=axes[9])\n",
        "df.plot.hexbin(x=\"X\", y=\"Y\", gridsize=25, title=\"Hexbin Plot (X vs Y)\", ax=axes[10])\n",
        "\n",
        "# Remove the empty last subplot (12th slot)\n",
        "fig.delaxes(axes[11])\n",
        "\n",
        "# Adjust layout\n",
        "plt.tight_layout()  # tells it to work out night padding between grids\n",
        "plt.show()\n",
        "\n",
        "print()  # blank line for layout"
      ],
      "metadata": {
        "id": "qMClU-veHkJg"
      },
      "execution_count": null,
      "outputs": []
    },
    {
      "cell_type": "markdown",
      "source": [
        "Plotly Plotting"
      ],
      "metadata": {
        "id": "HpQdmUAs9U1v"
      }
    },
    {
      "cell_type": "code",
      "source": [
        "print()  # just for clarity\n",
        "\n",
        "# 1. Line plot (over time)\n",
        "fig = px.line(df, x=\"Datetime\", y=[\"Value1\", \"Value2\"], title=\"Line Plot over Time\")\n",
        "fig.show()\n",
        "\n",
        "# 2. Area plot (over time)\n",
        "fig = px.area(df.melt(id_vars=['Datetime'], value_vars=['Value1', 'Value2']), x=\"Datetime\", y=\"value\", color=\"variable\", title=\"Area Plot over Time\")\n",
        "fig.show()\n",
        "\n",
        "# 3. Bar plot (mean Value1 per Category)\n",
        "mean_value1 = df.groupby(\"Category\")[\"Value1\"].mean().reset_index()\n",
        "fig = px.bar(mean_value1, x=\"Category\", y=\"Value1\", title=\"Bar Plot (Mean Value1 by Category)\")\n",
        "fig.show()\n",
        "\n",
        "# 4. Horizontal bar plot (mean Value2 per Category)\n",
        "mean_value2 = df.groupby(\"Category\")[\"Value2\"].mean().reset_index()\n",
        "fig = px.bar(mean_value2, x=\"Value2\", y=\"Category\", orientation='h', title=\"Horizontal Bar Plot (Mean Value2 by Category)\")\n",
        "fig.show()\n",
        "\n",
        "# 5. Histogram (distribution of Value1 & Value2)\n",
        "fig = go.Figure()\n",
        "fig.add_trace(go.Histogram(x=df[\"Value1\"], name=\"Value1\", opacity=0.5, nbinsx=20)) # nbinsx is number of histrogram 'groups' to create.\n",
        "fig.add_trace(go.Histogram(x=df[\"Value2\"], name=\"Value2\", opacity=0.5, nbinsx=20))\n",
        "fig.update_layout(title=\"Histogram of Value1 & Value2\", barmode='overlay')\n",
        "fig.show()\n",
        "\n",
        "# 6. Box plot (Value1 & Value2)\n",
        "fig = go.Figure()\n",
        "fig.add_trace(go.Box(y=df[\"Value1\"], name=\"Value1\"))\n",
        "fig.add_trace(go.Box(y=df[\"Value2\"], name=\"Value2\"))\n",
        "fig.update_layout(title=\"Box Plot of Value1 & Value2\")\n",
        "fig.show()\n",
        "\n",
        "# 7. Density plot (Value1 distribution)\n",
        "fig = ff.create_distplot([df[\"Value1\"]], [\"Value1\"], show_hist=False, show_rug=False)\n",
        "fig.update_layout(title=\"Density Plot of Value1\")\n",
        "fig.show()\n",
        "\n",
        "# 8. Does not have KDE plots.\n",
        "\n",
        "# 9. Pie plot (proportion of categories)\n",
        "category_counts = df[\"Category\"].value_counts()\n",
        "fig = px.pie(values=category_counts.values, names=category_counts.index, title=\"Pie Plot of Categories\")\n",
        "fig.update_traces(textposition='inside', textinfo='percent+label')\n",
        "fig.show()\n",
        "\n",
        "# 10. Scatter plot (X vs Y)\n",
        "fig = px.scatter(df, x=\"X\", y=\"Y\", title=\"Scatter Plot (X vs Y)\")\n",
        "fig.show()\n",
        "\n",
        "# Does not have hexbin plots."
      ],
      "metadata": {
        "id": "OrgE-XwM9Xo6"
      },
      "execution_count": null,
      "outputs": []
    },
    {
      "cell_type": "markdown",
      "source": [
        "Plotly Subplot and Style"
      ],
      "metadata": {
        "id": "5suAbzFRKp3s"
      }
    },
    {
      "cell_type": "code",
      "source": [
        "print()  # blank line for layout\n",
        "pio.templates.default = \"plotly_dark\"\n",
        "\n",
        "# Create 4x3 subplot grid\n",
        "fig = make_subplots(\n",
        "    rows=3, cols=3,\n",
        "    subplot_titles=[\n",
        "        \"Line Plot over Time\", \"Area Plot over Time\", \"Bar Plot (Mean Value1 by Category)\", \"Horizontal Bar Plot (Mean Value2 by Category)\", \"Histogram of Value1 & Value2\",\n",
        "        \"Box Plot of Value1 & Value2\", \"Density Plot of Value1\", \"Pie Plot of Categories\", \"Scatter Plot (X vs Y)\"\n",
        "    ],\n",
        "    specs=[[{\"secondary_y\": False}, {\"secondary_y\": False}, {\"secondary_y\": False}],\n",
        "           [{\"secondary_y\": False}, {\"secondary_y\": False}, {\"secondary_y\": False}],\n",
        "           [{\"secondary_y\": False}, {\"type\": \"pie\"}, {\"secondary_y\": False}]],  # If you had blanks include None instead of {}\n",
        "    vertical_spacing=0.08,\n",
        "    horizontal_spacing=0.08\n",
        ")\n",
        "\n",
        "# 1. Line plot (row=1, col=1)\n",
        "fig.add_trace(go.Scatter(x=df[\"Datetime\"], y=df[\"Value1\"], name=\"Value1\", mode='lines'), row=1, col=1)\n",
        "fig.add_trace(go.Scatter(x=df[\"Datetime\"], y=df[\"Value2\"], name=\"Value2\", mode='lines'), row=1, col=1)\n",
        "\n",
        "# 2. Area plot (row=1, col=2)\n",
        "fig.add_trace(go.Scatter(x=df[\"Datetime\"], y=df[\"Value1\"], name=\"Value1\", fill='tonexty', opacity=0.5), row=1, col=2)\n",
        "fig.add_trace(go.Scatter(x=df[\"Datetime\"], y=df[\"Value2\"], name=\"Value2\", fill='tonexty', opacity=0.5), row=1, col=2)\n",
        "\n",
        "# 3. Bar plot (row=1, col=3)\n",
        "mean_value1 = df.groupby(\"Category\")[\"Value1\"].mean()\n",
        "fig.add_trace(go.Bar(x=mean_value1.index, y=mean_value1.values, name=\"Mean Value1\"), row=1, col=3)\n",
        "\n",
        "# 4. Horizontal bar plot (row=2, col=1)\n",
        "mean_value2 = df.groupby(\"Category\")[\"Value2\"].mean()\n",
        "fig.add_trace(go.Bar(x=mean_value2.values, y=mean_value2.index, name=\"Mean Value2\", orientation='h'), row=2, col=1)\n",
        "\n",
        "# 5. Histogram (row=2, col=2)\n",
        "fig.add_trace(go.Histogram(x=df[\"Value1\"], name=\"Value1\", opacity=0.5, nbinsx=20), row=2, col=2)\n",
        "fig.add_trace(go.Histogram(x=df[\"Value2\"], name=\"Value2\", opacity=0.5, nbinsx=20), row=2, col=2)\n",
        "\n",
        "# 6. Box plot (row=2, col=3)\n",
        "fig.add_trace(go.Box(y=df[\"Value1\"], name=\"Value1\"), row=2, col=3)\n",
        "fig.add_trace(go.Box(y=df[\"Value2\"], name=\"Value2\"), row=2, col=3)\n",
        "\n",
        "# 7. Density plot (row=3, col=1) - using histogram with density normalization\n",
        "density_fig = ff.create_distplot([df[\"Value1\"].dropna()], [\"Value1\"], show_hist=False, show_rug=False)\n",
        "fig.add_trace(density_fig.data[0], row=3, col=1)\n",
        "\n",
        "# 9. Pie plot (row=3, col=3)\n",
        "category_counts = df[\"Category\"].value_counts()\n",
        "fig.add_trace(go.Pie(labels=category_counts.index, values=category_counts.values,\n",
        "                    name=\"Categories\", textinfo='label+percent'), row=3, col=2)\n",
        "\n",
        "# 10. Scatter plot (row=4, col=1)\n",
        "fig.add_trace(go.Scatter(x=df[\"X\"], y=df[\"Y\"], mode='markers', name=\"X vs Y\"), row=3, col=3)\n",
        "\n",
        "# Update layout for better appearance\n",
        "fig.update_layout(\n",
        "    height=1200,  # equivalent to figsize height\n",
        "    width=1200,   # equivalent to figsize width\n",
        "    showlegend=False,  # turn off legend to reduce clutter in subplots\n",
        "    title_text=\"Multiple Plot Dashboard\",\n",
        "    title_x=0.5,\n",
        "    barmode='overlay'  # Update histogram overlay mode\n",
        ")\n",
        "\n",
        "fig.show()\n",
        "\n",
        "print()  # blank line for layout"
      ],
      "metadata": {
        "id": "k1akiiB5KsEi"
      },
      "execution_count": null,
      "outputs": []
    }
  ]
}