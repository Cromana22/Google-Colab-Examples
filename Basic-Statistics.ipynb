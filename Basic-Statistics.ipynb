{
  "nbformat": 4,
  "nbformat_minor": 0,
  "metadata": {
    "colab": {
      "provenance": [],
      "authorship_tag": "ABX9TyORkZfLF9HRbYrl0Nw63OMA",
      "include_colab_link": true
    },
    "kernelspec": {
      "name": "python3",
      "display_name": "Python 3"
    },
    "language_info": {
      "name": "python"
    }
  },
  "cells": [
    {
      "cell_type": "markdown",
      "metadata": {
        "id": "view-in-github",
        "colab_type": "text"
      },
      "source": [
        "<a href=\"https://colab.research.google.com/github/Cromana22/Google-Colab-Examples/blob/main/Basic-Statistics.ipynb\" target=\"_parent\"><img src=\"https://colab.research.google.com/assets/colab-badge.svg\" alt=\"Open In Colab\"/></a>"
      ]
    },
    {
      "cell_type": "markdown",
      "source": [
        "Import Libraries"
      ],
      "metadata": {
        "id": "rng2QJvi566h"
      }
    },
    {
      "cell_type": "code",
      "source": [
        "import pandas as pd\n",
        "import numpy as np\n",
        "import random\n",
        "from scipy import stats"
      ],
      "metadata": {
        "id": "E5JoTyFp6KPx"
      },
      "execution_count": null,
      "outputs": []
    },
    {
      "cell_type": "markdown",
      "source": [
        "Create Data"
      ],
      "metadata": {
        "id": "fDPU5yXZ596J"
      }
    },
    {
      "cell_type": "code",
      "source": [
        "'''flower_types = \t['rose', 'tulip', 'daisy', 'lily', 'orchid', 'sunflower', \t'daffodil', 'peony']\n",
        "colours = ['red', 'yellow', 'white', 'purple', 'pink', 'orange']\n",
        "n = 50\n",
        "data = {  'flower': [random.choice(flower_types) for _ in range(n)],\n",
        "    \t    'colour': [random.choice(colours) for _ in range(n)],\n",
        "    \t    'height_cm': np.random.randint(20, 120, size=n),\n",
        "    \t    'petal_count': np.random.randint(5, 50, size=n)  }\n",
        "df = pd.DataFrame(data)'''"
      ],
      "metadata": {
        "id": "ZQvUHxRl6Mv5"
      },
      "execution_count": null,
      "outputs": []
    },
    {
      "cell_type": "markdown",
      "source": [
        "Alternate Data (Advanced)"
      ],
      "metadata": {
        "id": "KD2HIpVl7oc6"
      }
    },
    {
      "cell_type": "code",
      "source": [
        "flower_types = ['rose', 'tulip', 'daisy', 'lily', 'orchid', 'sunflower', 'daffodil', 'peony']\n",
        "colours = ['red', 'yellow', 'white', 'purple', 'pink', 'orange']\n",
        "n = 50\n",
        "\n",
        "# Create color-petal correlation mapping\n",
        "color_petal_mapping = {\n",
        "    'red': (15, 3),      # mean=15, std=3\n",
        "    'yellow': (25, 4),   # mean=25, std=4\n",
        "    'white': (8, 2),     # mean=8, std=2\n",
        "    'purple': (20, 3),   # mean=20, std=3\n",
        "    'pink': (12, 2),     # mean=12, std=2\n",
        "    'orange': (30, 5)    # mean=30, std=5\n",
        "}\n",
        "\n",
        "# Generate flowers (keeping your original random selection)\n",
        "flowers = [random.choice(flower_types) for _ in range(n)]\n",
        "\n",
        "# Generate colors (keeping your original random selection)\n",
        "flower_colours = [random.choice(colours) for _ in range(n)]\n",
        "\n",
        "# Generate correlated petal counts based on color\n",
        "petal_counts = []\n",
        "for colour in flower_colours:\n",
        "    mean_petals, std_petals = color_petal_mapping[colour]\n",
        "    # Generate normally distributed petal count, then round and clip to reasonable range\n",
        "    petals = np.random.normal(mean_petals, std_petals)\n",
        "    petals = max(5, min(50, int(round(petals))))\n",
        "    petal_counts.append(petals)\n",
        "\n",
        "# Generate skewed height data (right-skewed [short] using gamma distribution)\n",
        "heights_right = np.random.gamma(shape=1, scale=15, size=n) + 20\n",
        "#flip to skew left (tall)\n",
        "heights_left = 120 - heights_raw\n",
        "heights = np.clip(heights_right, 20, 120).astype(int)\n",
        "\n",
        "data = {\n",
        "    'flower': flowers,\n",
        "    'colour': flower_colours,\n",
        "    'height_cm': heights,\n",
        "    'petal_count': petal_counts\n",
        "}\n",
        "\n",
        "df = pd.DataFrame(data)\n",
        "\n",
        "graph = df['height_cm'].plot.hist(bins=15, alpha=0.7, color='coral', edgecolor='black',\n",
        "                          title='Flower Height Distribution',\n",
        "                          xlabel='Height (cm)', ylabel='Frequency')"
      ],
      "metadata": {
        "id": "2MDj1Hre7qKR"
      },
      "execution_count": null,
      "outputs": []
    },
    {
      "cell_type": "markdown",
      "source": [
        "Numeric Stats"
      ],
      "metadata": {
        "id": "MXP1jqTg6BM6"
      }
    },
    {
      "cell_type": "code",
      "source": [
        "for col in ['height_cm', 'petal_count']:\n",
        "    series = df[col]\n",
        "    print(f\"--- {col} ---\")\n",
        "    print(\"Count:\", series.count())\t\t\t                  # builtin\n",
        "    print(\"Sum:\", series.sum())\t\t\t\t                    # builtin\n",
        "    print(\"Mean:\", round(series.mean(), 2))\t\t            # numpy\n",
        "    print(\"Median:\", series.median())                     # numpy\n",
        "    print(\"Mode:\", series.mode()[0])                      # scipy\n",
        "    print(\"Min:\", series.min())\t\t\t                      # numpy\n",
        "    print(\"Max:\", series.max())\t\t\t\t                    # numpy\n",
        "    print(\"Range:\", series.max()-series.min())\t        \t# numpy\n",
        "    print(\"Skewness:\", series.skew())  \t\t\t\t            # scipy\n",
        "    print(\"Kurtosis:\", series.kurtosis())  \t\t\t          # scipy\n",
        "    print(\"Top 5:\", df.nlargest(5, col)[col].tolist())  \t# pandas\n",
        "    print(\"Std Dev:\", round(np.std(series), 2))\t\t        # numpy\n",
        "    print()"
      ],
      "metadata": {
        "id": "H4FrQNwa6C2w"
      },
      "execution_count": null,
      "outputs": []
    },
    {
      "cell_type": "markdown",
      "source": [
        "Text Stats"
      ],
      "metadata": {
        "id": "0D1NtLmw6DLw"
      }
    },
    {
      "cell_type": "code",
      "source": [
        "series2 = df['colour']\n",
        "print(f\"--- colour ---\")\n",
        "print(\"Count:\", series2.count())\t\t\t\t\t                # builtin\n",
        "print(\"Mode:\", series2.mode()[0])  \t\t\t\t                # scipy\n",
        "\n",
        "color_proportions = df['colour'].value_counts(normalize=True)*100\n",
        "print(\"Proportions:\", color_proportions) \t\t\t            # pandas\n",
        "\n",
        "top_5_colors = df['colour'].value_counts().head(5).index.tolist()\n",
        "print(\"Top 5 colors:\", top_5_colors)                      # pandas\n",
        "print()"
      ],
      "metadata": {
        "id": "rWkCsLrb6SBw"
      },
      "execution_count": null,
      "outputs": []
    },
    {
      "cell_type": "markdown",
      "source": [
        "Summaries"
      ],
      "metadata": {
        "id": "0mh4YF8G6ERI"
      }
    },
    {
      "cell_type": "code",
      "source": [
        "print(\"---Summary by Colour Group---\\n\")\n",
        "summary_by_colour = df.groupby('colour').agg({\n",
        "    'height_cm': ['mean', 'median', 'min', 'max'],\n",
        "    'petal_count': ['mean', 'std']\n",
        "})\n",
        "print(summary_by_colour, \"\\n\")\n",
        "\n",
        "print(\"---Quick Numeric Summary---\\n\")\n",
        "print(df.describe(), \"\\n\")"
      ],
      "metadata": {
        "id": "OExJDrEp6GdZ"
      },
      "execution_count": null,
      "outputs": []
    },
    {
      "cell_type": "markdown",
      "source": [
        "Profile Report"
      ],
      "metadata": {
        "id": "7-7_TJIf6FXw"
      }
    },
    {
      "cell_type": "code",
      "source": [
        "# !pip install ydata-profiling\n",
        "\n",
        "from ydata_profiling import ProfileReport\n",
        "profile = ProfileReport(df, explorative=True)\n",
        "profile.to_notebook_iframe()   \t\t\t\t          # if in Jupyter\n",
        "# profile.to_file(\"flowers_report.html\")  \t\t    # if in Python"
      ],
      "metadata": {
        "id": "a40WuYsE5RTg"
      },
      "execution_count": null,
      "outputs": []
    }
  ]
}