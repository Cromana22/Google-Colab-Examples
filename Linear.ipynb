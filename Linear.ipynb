{
  "nbformat": 4,
  "nbformat_minor": 0,
  "metadata": {
    "colab": {
      "provenance": []
    },
    "kernelspec": {
      "name": "python3",
      "display_name": "Python 3"
    },
    "language_info": {
      "name": "python"
    }
  },
  "cells": [
    {
      "cell_type": "markdown",
      "source": [
        "Imports"
      ],
      "metadata": {
        "id": "dBvv3tArwW1Z"
      }
    },
    {
      "cell_type": "code",
      "source": [
        "# Prerequisites - Install packages\n",
        "# !pip install pandas matplotlib seaborn scikit-learn numpy\n",
        "\n",
        "import pandas as pd\n",
        "import numpy as np\n",
        "import matplotlib.pyplot as plt\n",
        "import seaborn as sns\n",
        "from sklearn.linear_model import LinearRegression, LogisticRegression\n",
        "from sklearn.preprocessing import PolynomialFeatures\n",
        "from sklearn.metrics import mean_squared_error, accuracy_score, classification_report\n",
        "from sklearn.pipeline import Pipeline\n",
        "import warnings\n",
        "\n",
        "# Set up matplotlib style similar to ggplot2\n",
        "plt.style.use('seaborn-v0_8')\n",
        "warnings.filterwarnings('ignore')"
      ],
      "metadata": {
        "id": "C7RoEb9RBp8e"
      },
      "execution_count": null,
      "outputs": []
    },
    {
      "cell_type": "markdown",
      "source": [
        "Create Dataset"
      ],
      "metadata": {
        "id": "WbK06q5-CQZD"
      }
    },
    {
      "cell_type": "code",
      "source": [
        "np.random.seed(42)  # for reproducibility\n",
        "n = 30\n",
        "x = np.linspace(1, 10, n)\n",
        "y = 4.2 + 2.05 * x + np.random.normal(0, 2, n)\n",
        "sim1 = pd.DataFrame({'x': x, 'y': y})\n",
        "\n",
        "# Plot the data (equivalent to sim1 %>% ggplot(aes(x, y)) + geom_point())\n",
        "plt.figure(figsize=(8, 6))\n",
        "plt.scatter(sim1['x'], sim1['y'], alpha=0.7)\n",
        "plt.xlabel('x')\n",
        "plt.ylabel('y')\n",
        "plt.title('Scatter plot of sim1 data')\n",
        "plt.grid(True, alpha=0.3)\n",
        "plt.show()"
      ],
      "metadata": {
        "id": "wjWpwQwrCXKx"
      },
      "execution_count": null,
      "outputs": []
    },
    {
      "cell_type": "markdown",
      "source": [
        "Linear Regression"
      ],
      "metadata": {
        "id": "SUyGblF_Cfim"
      }
    },
    {
      "cell_type": "code",
      "source": [
        "# Fit linear model\n",
        "X = sim1[['x']]  # sklearn expects 2D array for features\n",
        "y_target = sim1['y']\n",
        "\n",
        "sim1_model = LinearRegression()\n",
        "sim1_model.fit(X, y_target)\n",
        "\n",
        "# Get coefficients\n",
        "intercept = sim1_model.intercept_  # Where it intercepts the Y axis\n",
        "slope = sim1_model.coef_[0]        # Slope steepness (1 across = Coef up)\n",
        "\n",
        "print(f\"\\nModel Coefficients:\")\n",
        "print(f\"(Intercept): {intercept:.6f}\")\n",
        "print(f\"x:           {slope:.6f}\")"
      ],
      "metadata": {
        "id": "ldLSV0WjC1CN"
      },
      "execution_count": null,
      "outputs": []
    },
    {
      "cell_type": "markdown",
      "source": [
        "Plotting"
      ],
      "metadata": {
        "id": "1IzCLFERDHyr"
      }
    },
    {
      "cell_type": "code",
      "source": [
        "# Plot with regression line\n",
        "plt.figure(figsize=(8, 6))\n",
        "plt.scatter(sim1['x'], sim1['y'], alpha=0.7, label='Data points')\n",
        "plt.plot(sim1['x'], intercept + slope * sim1['x'], 'red', linewidth=2, label='Regression line')\n",
        "plt.xlabel('x')\n",
        "plt.ylabel('y')\n",
        "plt.title('Linear regression fit')\n",
        "plt.legend()\n",
        "plt.grid(True, alpha=0.3)\n",
        "plt.show()"
      ],
      "metadata": {
        "id": "XZSU4SGpDM5-"
      },
      "execution_count": null,
      "outputs": []
    },
    {
      "cell_type": "markdown",
      "source": [
        "Add Predicted Values and Residuals to table"
      ],
      "metadata": {
        "id": "hvelG0DpDUob"
      }
    },
    {
      "cell_type": "code",
      "source": [
        "# going to add straight to the original data set for ease.\n",
        "sim1['prediction'] = sim1_model.predict(sim1[['x']])  # predict from the x value\n",
        "sim1['residual'] = sim1['y'] - sim1['prediction']\n",
        "print(sim1.head())"
      ],
      "metadata": {
        "id": "14mlb4jyEGvC"
      },
      "execution_count": null,
      "outputs": []
    },
    {
      "cell_type": "markdown",
      "source": [
        "Plot with residuals."
      ],
      "metadata": {
        "id": "Qre_Uq3RFMFJ"
      }
    },
    {
      "cell_type": "code",
      "source": [
        "plt.figure(figsize=(8, 6))\n",
        "plt.scatter(sim1['x'], sim1['y'], alpha=0.7, label='Data points')\n",
        "plt.plot(sim1['x'], intercept + slope * sim1['x'], 'red', linewidth=2, label='Regression line')\n",
        "plt.scatter(sim1['x'], sim1['residual'], color='green', s=20, label='Residuals')\n",
        "plt.xlabel('x')\n",
        "plt.ylabel('y')\n",
        "plt.title('Linear regression fit with Residuals')\n",
        "plt.legend()\n",
        "plt.grid(True, alpha=0.3)\n",
        "plt.show()"
      ],
      "metadata": {
        "id": "GRK7sXPDFbNw"
      },
      "execution_count": null,
      "outputs": []
    },
    {
      "cell_type": "markdown",
      "source": [
        "Trend the residuals!"
      ],
      "metadata": {
        "id": "Ne26UFzDFyNT"
      }
    },
    {
      "cell_type": "code",
      "source": [
        "residual_X = sim1[['x']]\n",
        "residual_y_target = sim1['residual']\n",
        "residual_model = LinearRegression()\n",
        "residual_model.fit(residual_X, residual_y_target)\n",
        "residual_intercept = residual_model.intercept_\n",
        "residual_slope = residual_model.coef_[0]\n",
        "\n",
        "# and plot again\n",
        "plt.figure(figsize=(8, 6))\n",
        "plt.scatter(sim1['x'], sim1['y'], alpha=0.7, label='Data points')\n",
        "plt.plot(sim1['x'], intercept + slope * sim1['x'], 'red', linewidth=2, label='Regression line')\n",
        "plt.scatter(sim1['x'], sim1['residual'], color='green', s=20, label='Residuals')\n",
        "plt.plot(sim1['x'], residual_intercept + residual_slope * sim1['x'], 'black', linewidth=2, label='Residual Trend line')\n",
        "plt.xlabel('x')\n",
        "plt.ylabel('y')\n",
        "plt.title('Linear regression fit with Residuals and trend')\n",
        "plt.legend()\n",
        "plt.grid(True, alpha=0.3)\n",
        "plt.show()"
      ],
      "metadata": {
        "id": "pwKQ1npgF0HF"
      },
      "execution_count": null,
      "outputs": []
    },
    {
      "cell_type": "markdown",
      "source": [
        "Additional Metrics"
      ],
      "metadata": {
        "id": "qBI33xPvGYom"
      }
    },
    {
      "cell_type": "code",
      "source": [
        "# Additional analysis - model performance metrics\n",
        "r2_score = sim1_model.score(X, y_target)\n",
        "mse = mean_squared_error(y_target, sim1['prediction'])\n",
        "rmse = np.sqrt(mse)\n",
        "\n",
        "print(f\"\\nModel Performance:\")\n",
        "print(f\"R-squared: {r2_score:.4f}\")\n",
        "print(f\"MSE: {mse:.4f}\")\n",
        "print(f\"RMSE: {rmse:.4f}\")"
      ],
      "metadata": {
        "id": "HQIEWIPUBkst"
      },
      "execution_count": null,
      "outputs": []
    },
    {
      "cell_type": "markdown",
      "source": [
        "**Polynomial Regression and Logistic Regression Examples**"
      ],
      "metadata": {
        "id": "fvJI3AyHNY4W"
      }
    },
    {
      "cell_type": "code",
      "source": [
        "\"\"\"Create Datasets\"\"\"\n",
        "\n",
        "np.random.seed(42)  # for reproducibility\n",
        "n = 50\n",
        "\n",
        "# Dataset for Polynomial Regression (quadratic relationship) y = 0.5*x^2 - 2*x + 1 + noise\n",
        "x_poly = np.linspace(-3, 3, n)\n",
        "y_poly = 0.5 * x_poly**2 - 2 * x_poly + 1 + np.random.normal(0, 0.8, n)\n",
        "poly_data = pd.DataFrame({'x': x_poly, 'y': y_poly})\n",
        "\n",
        "# Dataset for Logistic Regression (S-shaped relationship) create probability using sigmoid function, then convert to binary outcomes, plus randomness\n",
        "x_logistic = np.linspace(-5, 5, n)\n",
        "linear_combination = 1.5 * x_logistic - 0.2\n",
        "probabilities = 1 / (1 + np.exp(-linear_combination))\n",
        "y_logistic_binary = np.random.binomial(1, probabilities, n)\n",
        "logistic_data = pd.DataFrame({'x': x_logistic, 'y_binary': y_logistic_binary, 'y_prob': probabilities})\n",
        "\n",
        "print(\"Datasets created:\")\n",
        "print(f\"Polynomial data shape: {poly_data.shape}\")\n",
        "print(f\"Logistic data shape: {logistic_data.shape}\")"
      ],
      "metadata": {
        "id": "E0hmGJkYNhaK"
      },
      "execution_count": null,
      "outputs": []
    },
    {
      "cell_type": "code",
      "source": [
        "\"\"\"Polynomial Regression Analysis\"\"\"\n",
        "\n",
        "# Fit polynomial regression (degree 2)\n",
        "poly_features = PolynomialFeatures(degree=2)\n",
        "X_poly = poly_data[['x']]\n",
        "X_poly_transformed = poly_features.fit_transform(X_poly)\n",
        "poly_model = LinearRegression()\n",
        "poly_model.fit(X_poly_transformed, poly_data['y'])\n",
        "\n",
        "# Generate smooth curve for plotting\n",
        "x_smooth = np.linspace(-3, 3, 100)\n",
        "X_smooth = poly_features.transform(x_smooth.reshape(-1, 1))\n",
        "y_smooth_pred = poly_model.predict(X_smooth)\n",
        "\n",
        "# Plot with polynomial regression curve\n",
        "plt.subplot(1, 2, 2)\n",
        "plt.scatter(poly_data['x'], poly_data['y'], alpha=0.7, color='blue', label='Data points')\n",
        "plt.plot(x_smooth, y_smooth_pred, 'red', linewidth=2, label='Polynomial fit (degree 2)')\n",
        "plt.scatter(poly_data['x'], poly_data['residual'], color='purple', s=20, alpha=0.7, label='Residuals')\n",
        "plt.axhline(y=0, color='black', linestyle='--', alpha=0.5)\n",
        "plt.xlabel('x')\n",
        "plt.ylabel('y')\n",
        "plt.title('Polynomial Regression Fit')\n",
        "plt.legend()\n",
        "plt.grid(True, alpha=0.3)\n",
        "plt.tight_layout()\n",
        "plt.show()\n",
        "\n",
        "# Add predictions and residuals to polynomial data\n",
        "poly_data['prediction'] = poly_model.predict(X_poly_transformed)\n",
        "poly_data['residual'] = poly_data['y'] - poly_data['prediction']\n",
        "\n",
        "# Get polynomial coefficients\n",
        "coefficients = poly_model.coef_\n",
        "intercept = poly_model.intercept_\n",
        "\n",
        "# Model performance metrics for polynomial\n",
        "r2_poly = poly_model.score(X_poly_transformed, poly_data['y'])\n",
        "mse_poly = mean_squared_error(poly_data['y'], poly_data['prediction'])\n",
        "rmse_poly = np.sqrt(mse_poly)\n",
        "\n",
        "print(f\"\\nPolynomial Model Performance:\")\n",
        "print(f\"R-squared: {r2_poly:.4f}\")\n",
        "print(f\"MSE: {mse_poly:.4f}\")\n",
        "print(f\"RMSE: {rmse_poly:.4f}\")"
      ],
      "metadata": {
        "id": "2171E8g-QAla"
      },
      "execution_count": null,
      "outputs": []
    },
    {
      "cell_type": "code",
      "source": [
        "\"\"\"Logistic Regression Analysis\"\"\"\n",
        "\n",
        "# Fit logistic regression\n",
        "X_logistic = logistic_data[['x']]\n",
        "y_logistic = logistic_data['y_binary']\n",
        "logistic_model = LogisticRegression()\n",
        "logistic_model.fit(X_logistic, y_logistic)\n",
        "\n",
        "# Generate smooth S-curve for plotting\n",
        "x_smooth_log = np.linspace(-5, 5, 100)\n",
        "X_smooth_log = x_smooth_log.reshape(-1, 1)\n",
        "y_prob_pred = logistic_model.predict_proba(X_smooth_log)[:, 1]  # Probability of class 1\n",
        "\n",
        "# Plot with logistic regression S-curve\n",
        "plt.subplot(1, 2, 2)\n",
        "plt.scatter(logistic_data['x'], logistic_data['y_binary'], alpha=0.7, color='green', label='Binary outcomes')\n",
        "plt.plot(x_smooth_log, y_prob_pred, 'red', linewidth=2, label='Logistic regression (S-curve)')\n",
        "plt.plot(logistic_data['x'], logistic_data['y_prob'], 'orange', alpha=0.5, linewidth=1, label='True probabilities')\n",
        "plt.xlabel('x')\n",
        "plt.ylabel('Probability / Binary Outcome')\n",
        "plt.title('Logistic Regression Fit')\n",
        "plt.legend()\n",
        "plt.grid(True, alpha=0.3)\n",
        "plt.ylim(-0.1, 1.1)\n",
        "plt.tight_layout()\n",
        "plt.show()\n",
        "\n",
        "# Add predictions to logistic data\n",
        "logistic_data['prediction_binary'] = logistic_model.predict(X_logistic)\n",
        "logistic_data['prediction_prob'] = logistic_model.predict_proba(X_logistic)[:, 1]\n",
        "log_coefficients = logistic_model.coef_[0]\n",
        "log_intercept = logistic_model.intercept_[0]\n",
        "\n",
        "# Model performance metrics for logistic regression\n",
        "accuracy = accuracy_score(y_logistic, logistic_data['prediction_binary'])\n",
        "\n",
        "print(f\"\\nLogistic Model Performance:\")\n",
        "print(f\"Accuracy: {accuracy:.4f}\")\n",
        "print(f\"Classification Report:\")\n",
        "print(classification_report(y_logistic, logistic_data['prediction_binary']))"
      ],
      "metadata": {
        "id": "Te52TMKoPdem"
      },
      "execution_count": null,
      "outputs": []
    },
    {
      "cell_type": "code",
      "source": [
        "\"\"\"Combined Visualization\"\"\"\n",
        "# Create a comprehensive plot showing both regression types\n",
        "fig, axes = plt.subplots(2, 1, figsize=(15, 10))\n",
        "\n",
        "# Polynomial - With fit and residuals\n",
        "axes[0].scatter(poly_data['x'], poly_data['y'], alpha=0.7, color='blue', label='Data points')\n",
        "axes[0].plot(x_smooth, y_smooth_pred, 'red', linewidth=2, label='Polynomial fit')\n",
        "axes[0].scatter(poly_data['x'], poly_data['residual'], color='purple', s=20, alpha=0.7, label='Residuals')\n",
        "axes[0].axhline(y=0, color='black', linestyle='--', alpha=0.5)\n",
        "axes[0].set_xlabel('x')\n",
        "axes[0].set_ylabel('y')\n",
        "axes[0].set_title('Polynomial Regression with Residuals')\n",
        "axes[0].legend()\n",
        "axes[0].grid(True, alpha=0.3)\n",
        "\n",
        "# Logistic - With S-curve fit\n",
        "axes[1].scatter(logistic_data['x'], logistic_data['y_binary'], alpha=0.7, color='green', label='Binary outcomes')\n",
        "axes[1].plot(x_smooth_log, y_prob_pred, 'red', linewidth=2, label='Logistic S-curve')\n",
        "axes[1].scatter(logistic_data['x'], logistic_data['prediction_prob'], color='orange', s=20, alpha=0.7, label='Predicted probabilities')\n",
        "axes[1].set_xlabel('x')\n",
        "axes[1].set_ylabel('Probability / Binary Outcome')\n",
        "axes[1].set_title('Logistic Regression with Predictions')\n",
        "axes[1].legend()\n",
        "axes[1].grid(True, alpha=0.3)\n",
        "axes[1].set_ylim(-0.1, 1.1)\n",
        "\n",
        "plt.tight_layout()\n",
        "plt.show()"
      ],
      "metadata": {
        "id": "CuPw1kbGPTyx"
      },
      "execution_count": null,
      "outputs": []
    },
    {
      "cell_type": "code",
      "source": [
        "\"\"\"Data Summary\"\"\"\n",
        "print()\n",
        "print(f\"\\nPolynomial Data Statistics:\")\n",
        "print(f\"X range: [{poly_data['x'].min():.2f}, {poly_data['x'].max():.2f}]\")\n",
        "print(f\"Y range: [{poly_data['y'].min():.2f}, {poly_data['y'].max():.2f}]\")\n",
        "print(f\"Mean residual: {poly_data['residual'].mean():.6f}\")\n",
        "\n",
        "print(f\"\\nLogistic Data Statistics:\")\n",
        "print(f\"X range: [{logistic_data['x'].min():.2f}, {logistic_data['x'].max():.2f}]\")\n",
        "print(f\"Positive class ratio: {logistic_data['y_binary'].mean():.3f}\")\n",
        "print(f\"Prediction accuracy: {accuracy:.3f}\")"
      ],
      "metadata": {
        "id": "3lRUNs9uPHJz"
      },
      "execution_count": null,
      "outputs": []
    }
  ]
}