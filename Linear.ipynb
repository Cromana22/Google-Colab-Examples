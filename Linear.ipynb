{
  "nbformat": 4,
  "nbformat_minor": 0,
  "metadata": {
    "colab": {
      "provenance": []
    },
    "kernelspec": {
      "name": "python3",
      "display_name": "Python 3"
    },
    "language_info": {
      "name": "python"
    }
  },
  "cells": [
    {
      "cell_type": "markdown",
      "source": [
        "Imports"
      ],
      "metadata": {
        "id": "dBvv3tArwW1Z"
      }
    },
    {
      "cell_type": "code",
      "source": [
        "# Prerequisites - Install packages\n",
        "# !pip install pandas matplotlib seaborn scikit-learn numpy\n",
        "\n",
        "import pandas as pd\n",
        "import numpy as np\n",
        "import matplotlib.pyplot as plt\n",
        "import seaborn as sns\n",
        "from sklearn.linear_model import LinearRegression\n",
        "from sklearn.metrics import mean_squared_error\n",
        "import warnings\n",
        "\n",
        "# Set up matplotlib style similar to ggplot2\n",
        "plt.style.use('seaborn-v0_8')\n",
        "warnings.filterwarnings('ignore')"
      ],
      "metadata": {
        "id": "C7RoEb9RBp8e"
      },
      "execution_count": null,
      "outputs": []
    },
    {
      "cell_type": "markdown",
      "source": [
        "Create Dataset"
      ],
      "metadata": {
        "id": "WbK06q5-CQZD"
      }
    },
    {
      "cell_type": "code",
      "source": [
        "np.random.seed(42)  # for reproducibility\n",
        "n = 30\n",
        "x = np.linspace(1, 10, n)\n",
        "y = 4.2 + 2.05 * x + np.random.normal(0, 2, n)\n",
        "sim1 = pd.DataFrame({'x': x, 'y': y})\n",
        "\n",
        "# Plot the data (equivalent to sim1 %>% ggplot(aes(x, y)) + geom_point())\n",
        "plt.figure(figsize=(8, 6))\n",
        "plt.scatter(sim1['x'], sim1['y'], alpha=0.7)\n",
        "plt.xlabel('x')\n",
        "plt.ylabel('y')\n",
        "plt.title('Scatter plot of sim1 data')\n",
        "plt.grid(True, alpha=0.3)\n",
        "plt.show()"
      ],
      "metadata": {
        "id": "wjWpwQwrCXKx"
      },
      "execution_count": null,
      "outputs": []
    },
    {
      "cell_type": "markdown",
      "source": [
        "Linear Regression"
      ],
      "metadata": {
        "id": "SUyGblF_Cfim"
      }
    },
    {
      "cell_type": "code",
      "source": [
        "# Fit linear model\n",
        "X = sim1[['x']]  # sklearn expects 2D array for features\n",
        "y_target = sim1['y']\n",
        "\n",
        "sim1_model = LinearRegression()\n",
        "sim1_model.fit(X, y_target)\n",
        "\n",
        "# Get coefficients\n",
        "intercept = sim1_model.intercept_  # Where it intercepts the Y axis\n",
        "slope = sim1_model.coef_[0]        # Slope steepness (1 across = Coef up)\n",
        "\n",
        "print(f\"\\nModel Coefficients:\")\n",
        "print(f\"(Intercept): {intercept:.6f}\")\n",
        "print(f\"x:           {slope:.6f}\")"
      ],
      "metadata": {
        "id": "ldLSV0WjC1CN"
      },
      "execution_count": null,
      "outputs": []
    },
    {
      "cell_type": "markdown",
      "source": [
        "Plotting"
      ],
      "metadata": {
        "id": "1IzCLFERDHyr"
      }
    },
    {
      "cell_type": "code",
      "source": [
        "# Plot with regression line\n",
        "plt.figure(figsize=(8, 6))\n",
        "plt.scatter(sim1['x'], sim1['y'], alpha=0.7, label='Data points')\n",
        "plt.plot(sim1['x'], intercept + slope * sim1['x'], 'red', linewidth=2, label='Regression line')\n",
        "plt.xlabel('x')\n",
        "plt.ylabel('y')\n",
        "plt.title('Linear regression fit')\n",
        "plt.legend()\n",
        "plt.grid(True, alpha=0.3)\n",
        "plt.show()"
      ],
      "metadata": {
        "id": "XZSU4SGpDM5-"
      },
      "execution_count": null,
      "outputs": []
    },
    {
      "cell_type": "markdown",
      "source": [
        "Add Predicted Values and Residuals to table"
      ],
      "metadata": {
        "id": "hvelG0DpDUob"
      }
    },
    {
      "cell_type": "code",
      "source": [
        "# going to add straight to the original data set for ease.\n",
        "sim1['prediction'] = sim1_model.predict(sim1[['x']])  # predict from the x value\n",
        "sim1['residual'] = sim1['y'] - sim1['prediction']\n",
        "print(sim1.head())"
      ],
      "metadata": {
        "id": "14mlb4jyEGvC"
      },
      "execution_count": null,
      "outputs": []
    },
    {
      "cell_type": "markdown",
      "source": [
        "Plot with residuals."
      ],
      "metadata": {
        "id": "Qre_Uq3RFMFJ"
      }
    },
    {
      "cell_type": "code",
      "source": [
        "plt.figure(figsize=(8, 6))\n",
        "plt.scatter(sim1['x'], sim1['y'], alpha=0.7, label='Data points')\n",
        "plt.plot(sim1['x'], intercept + slope * sim1['x'], 'red', linewidth=2, label='Regression line')\n",
        "plt.scatter(sim1['x'], sim1['residual'], color='green', s=20, label='Residuals')\n",
        "plt.xlabel('x')\n",
        "plt.ylabel('y')\n",
        "plt.title('Linear regression fit with Residuals')\n",
        "plt.legend()\n",
        "plt.grid(True, alpha=0.3)\n",
        "plt.show()"
      ],
      "metadata": {
        "id": "GRK7sXPDFbNw"
      },
      "execution_count": null,
      "outputs": []
    },
    {
      "cell_type": "markdown",
      "source": [
        "Trend the residuals!"
      ],
      "metadata": {
        "id": "Ne26UFzDFyNT"
      }
    },
    {
      "cell_type": "code",
      "source": [
        "residual_X = sim1[['x']]\n",
        "residual_y_target = sim1['residual']\n",
        "residual_model = LinearRegression()\n",
        "residual_model.fit(residual_X, residual_y_target)\n",
        "residual_intercept = residual_model.intercept_\n",
        "residual_slope = residual_model.coef_[0]\n",
        "\n",
        "# and plot again\n",
        "plt.figure(figsize=(8, 6))\n",
        "plt.scatter(sim1['x'], sim1['y'], alpha=0.7, label='Data points')\n",
        "plt.plot(sim1['x'], intercept + slope * sim1['x'], 'red', linewidth=2, label='Regression line')\n",
        "plt.scatter(sim1['x'], sim1['residual'], color='green', s=20, label='Residuals')\n",
        "plt.plot(sim1['x'], residual_intercept + residual_slope * sim1['x'], 'black', linewidth=2, label='Residual Trend line')\n",
        "plt.xlabel('x')\n",
        "plt.ylabel('y')\n",
        "plt.title('Linear regression fit with Residuals and trend')\n",
        "plt.legend()\n",
        "plt.grid(True, alpha=0.3)\n",
        "plt.show()"
      ],
      "metadata": {
        "id": "pwKQ1npgF0HF"
      },
      "execution_count": null,
      "outputs": []
    },
    {
      "cell_type": "markdown",
      "source": [
        "Additional Metrics"
      ],
      "metadata": {
        "id": "qBI33xPvGYom"
      }
    },
    {
      "cell_type": "code",
      "source": [
        "# Additional analysis - model performance metrics\n",
        "r2_score = sim1_model.score(X, y_target)\n",
        "mse = mean_squared_error(y_target, sim1['prediction'])\n",
        "rmse = np.sqrt(mse)\n",
        "\n",
        "print(f\"\\nModel Performance:\")\n",
        "print(f\"R-squared: {r2_score:.4f}\")\n",
        "print(f\"MSE: {mse:.4f}\")\n",
        "print(f\"RMSE: {rmse:.4f}\")"
      ],
      "metadata": {
        "id": "HQIEWIPUBkst"
      },
      "execution_count": null,
      "outputs": []
    }
  ]
}